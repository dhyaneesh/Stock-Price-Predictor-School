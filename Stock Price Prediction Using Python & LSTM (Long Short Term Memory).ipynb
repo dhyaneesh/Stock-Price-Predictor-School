{
 "cells": [
  {
   "cell_type": "code",
   "execution_count": null,
   "id": "6760d1ba",
   "metadata": {},
   "outputs": [],
   "source": [
    "#importing libraries \n",
    "import math\n",
    "import numpy as np\n",
    "import pandas as pd \n",
    "import matplotlib.pyplot as pyplot\n",
    "\n",
    "#A sequential model takes into account the order of things happening and is linear, it is also fairly simple to use.\n",
    "from keras.models import Sequential\n",
    "\n",
    "#Dense layer is the regular deeply connected neural network layer. It is most common and frequently used layer. Dense layer does the below operation on the input and return the output.\n",
    "#The Dropout layer randomly sets input units to 0 with a frequency of rate at each step during training time, which helps prevent overfitting. Input data may have some of the unwanted data, usually called as Noise. Dropout will try to remove the noise data and thus prevent the model from over-fitting.\n",
    "#LSTM is a Recurrent neural network that helps in sequential data (Data that needs to preserve order) and also helps fight the forgetting problem in vanilla RNN \n",
    "from keras.layers import LSTM,Dropout,Dense\n",
    "\n",
    "#Transforms any actual range into a range of 0 to 1 so it is easier to work with, essentially the Sigmoid function / ReLU\n",
    "from sklearn.preprocessing import MinMaxScaler"
   ]
  }
 ],
 "metadata": {
  "kernelspec": {
   "display_name": "Python 3 (ipykernel)",
   "language": "python",
   "name": "python3"
  },
  "language_info": {
   "codemirror_mode": {
    "name": "ipython",
    "version": 3
   },
   "file_extension": ".py",
   "mimetype": "text/x-python",
   "name": "python",
   "nbconvert_exporter": "python",
   "pygments_lexer": "ipython3",
   "version": "3.9.7"
  }
 },
 "nbformat": 4,
 "nbformat_minor": 5
}
